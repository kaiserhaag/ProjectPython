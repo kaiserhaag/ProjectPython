{
 "cells": [
  {
   "cell_type": "code",
   "execution_count": null,
   "metadata": {},
   "outputs": [],
   "source": [
    "# Dependencies and Setup\n",
    "import matplotlib.pyplot as plt\n",
    "import pandas as pd\n",
    "import scipy.stats as st"
   ]
  },
  {
   "cell_type": "code",
   "execution_count": null,
   "metadata": {},
   "outputs": [],
   "source": [
    "# Study data files\n",
    "crop_production_path = \"crop_production_clean.csv\"\n",
    "temp_file_path = \"temperature_clean.csv\""
   ]
  },
  {
   "cell_type": "code",
   "execution_count": null,
   "metadata": {},
   "outputs": [],
   "source": [
    "# Read the mouse data and the study results\n",
    "crop_pro_results = pd.read_csv(crop_production_path,encoding=\"ISO-8859-1\")\n",
    "temp_read_results = pd.read_csv(temp_file_path,encoding=\"ISO-8859-1\")\n",
    "crop_pro_results[ [\"Area\",\"Item\"] + list(crop_pro_results.loc[:,\"Y1961\":\"Y2013\"]) ]\n",
    "temp_read_results"
   ]
  },
  {
   "cell_type": "code",
   "execution_count": null,
   "metadata": {},
   "outputs": [],
   "source": [
    "renamed_crop_column=[]\n",
    "for col in crop_pro_results.columns:\n",
    "    renamed_crop_column.append(f'{col}_crop')\n",
    "    \n",
    "crop_pro_results.columns =renamed_crop_column\n",
    "crop_pro_results.head()"
   ]
  },
  {
   "cell_type": "code",
   "execution_count": null,
   "metadata": {},
   "outputs": [],
   "source": [
    "yearly_temp_avg =temp_read_results[[\"AverageTemperature\",\"year\",\"Country\"]]\n",
    "#t=pd.DataFrame(yearly_temp_avg[\"AverageTemperature\"].reset_index()).set_index(\"year\")\n",
    "t=pd.DataFrame(yearly_temp_avg).set_index(\"year\")\n",
    "t_grouped =t.reset_index()#.groupby(\"Country\",\"year\").AverageTemperature.mean()\n",
    "t_grouped =pd.DataFrame(t_grouped).groupby([\"Country\",\"year\"]).AverageTemperature.mean()\n",
    "t_grouped=t_grouped.unstack()\n",
    "\n",
    "#yearly_temp_avg.reset_index(level=0, inplace=True)\n",
    "#print(t_grouped.columns)#t.transpose())\n",
    "renamed_column =[]\n",
    "for column in t_grouped.columns:\n",
    "    renamed_column.append(f'{column}Temp')\n",
    "    \n",
    "#print(renamed_column)\n",
    "t_grouped.columns =renamed_column\n",
    "print(t_grouped.head())"
   ]
  },
  {
   "cell_type": "code",
   "execution_count": null,
   "metadata": {
    "scrolled": false
   },
   "outputs": [],
   "source": [
    "combined_df= crop_pro_results.merge(t_grouped, how =\"outer\",left_on='Area_crop', right_on=\"Country\", suffixes=(False, False))\n",
    "combined_df.loc[:,(\"Area_crop\",\"Item_crop\",\"Y2011_crop\",\"2011Temp\")]\n",
    "#crop_pro_results\n",
    "#combined_df =pd.merge(crop_pro_results,temp_read_results,how='inner',on='Country')\n",
    "\n",
    "\n",
    "#combined_wrestlers_df = pd.merge(wrestlers_2013_df, wrestlers_2014_df, how='outer', on='Wrestler') "
   ]
  },
  {
   "cell_type": "code",
   "execution_count": null,
   "metadata": {},
   "outputs": [],
   "source": [
    "#sort by country and crop\n",
    "crop_pro_df=crop_pro_results[ [\"Area\",\"Item\"] + list(crop_pro_results.loc[:,\"Y1961\":\"Y2013\"]) ]\n",
    "yearly_df=crop_pro_df[list(crop_pro_df.loc[:,\"Y1961\":\"Y2013\"])]\n",
    "yearly_df[\"Country_per_crop_total\"]=\"\"\n",
    "col_list=yearly_df.columns\n",
    "Total=0\n",
    "index =0\n",
    "count=1\n",
    "for index in range(len(yearly_df)-1):    \n",
    "    \n",
    "    for count in range(len(col_list)-2):\n",
    "        Total += yearly_df.iloc[index,count]\n",
    "        count +=1\n",
    "    yearly_df.loc[index, \"Country_per_crop_total\"] = Total    \n",
    "    index +=1 \n",
    "new_df=pd.DataFrame(yearly_df)"
   ]
  },
  {
   "cell_type": "code",
   "execution_count": null,
   "metadata": {
    "scrolled": true
   },
   "outputs": [],
   "source": [
    "new_df= new_df.sort_index()\n",
    "new_df\n",
    "\n"
   ]
  },
  {
   "cell_type": "code",
   "execution_count": null,
   "metadata": {},
   "outputs": [],
   "source": []
  }
 ],
 "metadata": {
  "kernelspec": {
   "display_name": "Python [conda env:PythonData]",
   "language": "python",
   "name": "conda-env-PythonData-py"
  },
  "language_info": {
   "codemirror_mode": {
    "name": "ipython",
    "version": 3
   },
   "file_extension": ".py",
   "mimetype": "text/x-python",
   "name": "python",
   "nbconvert_exporter": "python",
   "pygments_lexer": "ipython3",
   "version": "3.6.10"
  }
 },
 "nbformat": 4,
 "nbformat_minor": 4
}
