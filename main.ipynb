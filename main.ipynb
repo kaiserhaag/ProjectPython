{
 "cells": [
  {
   "cell_type": "code",
   "execution_count": null,
   "metadata": {},
   "outputs": [],
   "source": [
    "# Dependencies and Setup\n",
    "import matplotlib.pyplot as plt\n",
    "import pandas as pd\n",
    "import numpy as np\n",
    "\n"
   ]
  },
  {
   "cell_type": "code",
   "execution_count": null,
   "metadata": {},
   "outputs": [],
   "source": [
    "# Study data files\n",
    "crop_production_path = \"crop_production_clean.csv\"\n",
    "temp_file_path = \"temperature_clean.csv\""
   ]
  },
  {
   "cell_type": "code",
   "execution_count": null,
   "metadata": {},
   "outputs": [],
   "source": [
    "crop_pro_results = pd.read_csv(crop_production_path,encoding=\"ISO-8859-1\")\n",
    "temp_read_results = pd.read_csv(temp_file_path,encoding=\"ISO-8859-1\")\n",
    "crop_pro_results =crop_pro_results[ [\"Area\",\"Item\"] + list(crop_pro_results.loc[:,\"Y1961\":\"Y2013\"]) ]\n",
    "crop_pro_results\n",
    "\n",
    "#rename the columns for crop file \n",
    "renamed_crop_column=[]\n",
    "for col in crop_pro_results.columns:\n",
    "    renamed_crop_column.append(f'{col}_crop')\n",
    "    \n",
    "crop_pro_results.columns =renamed_crop_column\n",
    "\n",
    "\n",
    "#compare with temp file country names\n",
    "area_col=crop_pro_results[\"Area_crop\"].unique()\n",
    "\n"
   ]
  },
  {
   "cell_type": "code",
   "execution_count": null,
   "metadata": {},
   "outputs": [],
   "source": [
    "# Temperature data set\n",
    "temp_avg =temp_read_results[[\"AverageTemperature\",\"year\",\"Country\"]]\n",
    "temp_avg_df=pd.DataFrame(temp_avg).set_index(\"year\")\n",
    "temp_avg_df = temp_avg_df.reset_index()#.groupby(\"Country\",\"year\").AverageTemperature.mean()\n",
    "temp_avg_grouped =pd.DataFrame(temp_avg_df).groupby([\"Country\",\"year\"]).AverageTemperature.mean()\n",
    "temp_avg_grouped=temp_avg_grouped.unstack()\n",
    "\n",
    "#reset index to make country a column for merging\n",
    "temp_avg_grouped=temp_avg_grouped.reset_index()\n",
    "\n",
    "\n",
    "# Rename the columns for temp file\n",
    "renamed_column =[]\n",
    "for column in temp_avg_grouped.columns:\n",
    "    renamed_column.append(f'{column}Temp')\n",
    "    \n",
    "temp_avg_grouped.columns =renamed_column\n",
    "temp_avg_sorted=temp_avg_grouped.sort_values(\"CountryTemp\")\n",
    "\n",
    "\n",
    "#crop_results_sorted =crop_pro_results.sort_values(\"Area_crop\")\n",
    "\n",
    "#Rename country to match our country of focus\n",
    "crop_country_list =temp_avg_sorted[\"CountryTemp\"].values\n",
    "for index,value in enumerate(crop_country_list):\n",
    "    if value ==\"United States\":#\"United States of America\"\n",
    "        print(f'index:{index},value:{value}')\n",
    "        #rename the country to match crop file for merging\n",
    "        temp_avg_sorted[\"CountryTemp\"][232]=\"United States of America\"\n",
    "\n",
    "\n",
    "#compare with crop file columns\n",
    "#country_col =temp_avg_sorted[\"CountryTemp\"].unique()\n",
    "\n"
   ]
  },
  {
   "cell_type": "code",
   "execution_count": null,
   "metadata": {},
   "outputs": [],
   "source": []
  },
  {
   "cell_type": "code",
   "execution_count": null,
   "metadata": {},
   "outputs": [],
   "source": [
    "#Merge the two data sets\n",
    "combined_crop_temp_df= crop_pro_results.merge(temp_avg_sorted, how =\"outer\",left_on='Area_crop', right_on=\"CountryTemp\", suffixes=(False, False))\n",
    "combined_crop_temp_df =combined_crop_temp_df.dropna()\n"
   ]
  },
  {
   "cell_type": "code",
   "execution_count": null,
   "metadata": {},
   "outputs": [],
   "source": [
    "# Crop production in the US\n",
    "usa_prod_df = combined_crop_temp_df.loc[combined_crop_temp_df['Area_crop']==\"United States of America\"]\n",
    "usa_prod_df"
   ]
  },
  {
   "cell_type": "code",
   "execution_count": null,
   "metadata": {},
   "outputs": [],
   "source": [
    "Tot_usa_prod_df =usa_prod_df[list(usa_prod_df.loc[:,\"Area_crop\":\"Y2011_crop\"])]\n",
    "Tot_usa_prod_df[\"Results\"]= Tot_usa_prod_df.apply(lambda column: column['Y1961_crop':'Y2011_crop'].sum(),axis = 1)\n",
    "Tot_usa_prod_df.head()"
   ]
  },
  {
   "cell_type": "code",
   "execution_count": null,
   "metadata": {},
   "outputs": [],
   "source": [
    "sorted_Tot_usa_prod_df = Tot_usa_prod_df.sort_values(by=['Results'], ascending=False)\n",
    "#maize_new = final_df[['Area', 'maize production']].copy()\n",
    "clean_df=sorted_Tot_usa_prod_df.head(10)"
   ]
  },
  {
   "cell_type": "code",
   "execution_count": null,
   "metadata": {},
   "outputs": [],
   "source": [
    "clean_df.drop_duplicates()"
   ]
  },
  {
   "cell_type": "code",
   "execution_count": null,
   "metadata": {},
   "outputs": [],
   "source": [
    "clean_df.groupby(\"Area_crop\").sum()"
   ]
  },
  {
   "cell_type": "code",
   "execution_count": null,
   "metadata": {},
   "outputs": [],
   "source": []
  }
 ],
 "metadata": {
  "kernelspec": {
   "display_name": "Python [conda env:PythonData] *",
   "language": "python",
   "name": "conda-env-PythonData-py"
  },
  "language_info": {
   "codemirror_mode": {
    "name": "ipython",
    "version": 3
   },
   "file_extension": ".py",
   "mimetype": "text/x-python",
   "name": "python",
   "nbconvert_exporter": "python",
   "pygments_lexer": "ipython3",
   "version": "3.7.6"
  }
 },
 "nbformat": 4,
 "nbformat_minor": 4
}
